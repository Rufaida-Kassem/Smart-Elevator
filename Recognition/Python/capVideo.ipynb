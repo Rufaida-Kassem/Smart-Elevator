{
 "cells": [
  {
   "cell_type": "code",
   "execution_count": 3,
   "metadata": {},
   "outputs": [],
   "source": [
    "import cv2,string\n",
    "import random\n",
    "import numpy as np\n",
    "import skimage.io as io\n",
    "from skimage.exposure import histogram,equalize_hist\n",
    "from skimage.color import rgb2gray\n",
    "import matplotlib.pyplot as plt\n",
    "from matplotlib.pyplot import bar\n",
    "from scipy import fftpack\n",
    "from PIL import Image\n",
    "from skimage.util import random_noise\n"
   ]
  },
  {
   "cell_type": "code",
   "execution_count": 8,
   "metadata": {},
   "outputs": [],
   "source": [
    "\n",
    "#----------------------------------------------------------------------------------\n",
    "def getFrames():\n",
    "    cap = cv2.VideoCapture(0)\n",
    "    fourcc = cv2.VideoWriter_fourcc(*'XVID')#type of extension (I think)\n",
    "    n1 = random.random()\n",
    "\n",
    "    #take 20 frames/captures per second\n",
    "    #put the size of the new video\n",
    "    out_vid = cv2.VideoWriter( '../CapOutput/' +'out1'+str(n1)+'.avi',fourcc,20.0,\n",
    "    ( 640,480 )\n",
    "    )\n",
    "\n",
    "    while (True):#or use cap.isOpened\n",
    "        ret, frame  = cap.read() \n",
    "        \n",
    "        if ret == True:\n",
    "            out_vid.write(frame)#save in colors\n",
    "\n",
    "            gray = cv2.cvtColor(frame,cv2.COLOR_BGR2GRAY )#its arguements are: 1. name of the source \n",
    "            #2. destination to be capturing gray not colored\n",
    "            cv2.imshow('gray frame', gray)\n",
    "\n",
    "            S = 10  # number of characters in the string.  \n",
    "            ran_str = ''.join(random.choices(string.ascii_uppercase + string.digits, k = S))  \n",
    "            i = random.randrange(0, 9000, 1)\n",
    "\n",
    "            #save pictures/frames from the video\n",
    "            cv2.imwrite('../TestCapImages/'+ ran_str +'%00002i.jpg' %i, gray)\n",
    "            \n",
    "\n",
    "            if ( cv2.waitKey(1) & 0xFF == ord('q') ):\n",
    "                #to wait for the user input & fro 64 bit machine == q key is pressed\n",
    "                break\n",
    "        else:\n",
    "            break\n",
    "        #break the loop\n",
    "\n",
    "    cap.release()\n",
    "    cv2.destroyAllWindows()"
   ]
  },
  {
   "cell_type": "code",
   "execution_count": 9,
   "metadata": {},
   "outputs": [],
   "source": [
    "getFrames()"
   ]
  }
 ],
 "metadata": {
  "kernelspec": {
   "display_name": "Python 3",
   "language": "python",
   "name": "python3"
  },
  "language_info": {
   "codemirror_mode": {
    "name": "ipython",
    "version": 3
   },
   "file_extension": ".py",
   "mimetype": "text/x-python",
   "name": "python",
   "nbconvert_exporter": "python",
   "pygments_lexer": "ipython3",
   "version": "3.9.10 (tags/v3.9.10:f2f3f53, Jan 17 2022, 15:14:21) [MSC v.1929 64 bit (AMD64)]"
  },
  "vscode": {
   "interpreter": {
    "hash": "70d459914d9a86456d6cb0e34fc8190790cc0df25ff27e38f763783165fe5050"
   }
  }
 },
 "nbformat": 4,
 "nbformat_minor": 4
}
